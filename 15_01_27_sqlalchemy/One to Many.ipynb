{
 "metadata": {
  "name": "",
  "signature": "sha256:90a8dad0c6413c521567d6464dc9242da935914ff5935f5333209cfbd64321e2"
 },
 "nbformat": 3,
 "nbformat_minor": 0,
 "worksheets": [
  {
   "cells": [
    {
     "cell_type": "markdown",
     "metadata": {},
     "source": [
      "<h1>Learning SQLAlchemy</h1>\n",
      "<table>\n",
      "<li><a href=\"Learning SQLAlchemy.ipynb\">Basic SQLAlchemy</a>\n",
      "<li><a href=\"One to Many.ipynb\">One to Many Relationships</a>\n",
      "<li><a href=\"Many to Many.ipynb\">Many to Many Relationships</a>\n",
      "<li><a href=\"Examples.ipynb\">Practical Examples</a>\n",
      "</table>"
     ]
    },
    {
     "cell_type": "markdown",
     "metadata": {},
     "source": [
      "<h2>An Introduction to SQL Relationships</h2>\n",
      "\n",
      "As I've mentioned, SQL databases allow for you to build <b>relationships</b> between the tables of your database. This is handled through <b>Foreign Keys</b>, which is a new kind of Column we haven't yet seen. Effectively, a Foreign Key is a piece of information (usually the integer primary key) that uniquely identifies the object with which the current object has a relationship. There are several key permutations of relationships that you can use:\n",
      "\n",
      "<table>\n",
      "<li>One to one\n",
      "<li>One to many\n",
      "<li>Many to many\n",
      "</table>\n",
      "The relationship types are pretty self-explanatory. A <b>one to one relationship</b> links a specific object, let's say a Star, to another specific object, let's say a SkyCoordinates object. Each Star has exactly one SkyCoordinates object, and each SkyCoordinates object has exactly one Star.\n",
      "\n",
      "A <b>one to many relationship</b> links a specific object, let's say Photometry, to another, again a Star, just like in a one to one relationship; however, the linked object is allowed to be related to more than one of the original object. In this case, a Star can have more than one Photometry object, but each Photometry object is associated with exactly one Star.\n",
      "\n",
      "Finally, a <b>many to many relationship</b> links two types of objects, let's say Tag and Star. The Star object can have multiple Tags. But you likely will want to treat these like categories, so each Tag should be able to associate with multiple Stars as well.\n",
      "\n",
      "Perhaps the obvious question is, 'Why aren't we starting with one to one? It's probably easier.' And you'd be almost right. The issue with one to one relationships is that they normally aren't that useful, and so they're usually implemented as a slight alteration of a one to many relationship in which the 'many' part is restricted to be 'one.' Note in the above example that I used a Star object and a SkyCoordinates object; whereas, in the previous notebook, I suggested you include the coordinates in the Star object. In general, with any one to one relationship, the contents of the related object can simply be added as additional columns in the original, making them not terribly useful."
     ]
    },
    {
     "cell_type": "markdown",
     "metadata": {},
     "source": [
      "<h2>One to Many Relationships in SQLAlchemy</h2>\n",
      "\n",
      "Before we get started building relationships, we'll need some objects with which to build relationships. __Copy over the Star object from the previous notebook below. Make sure to recreate the engine and the Base class from the previous notebook.__"
     ]
    },
    {
     "cell_type": "code",
     "collapsed": false,
     "input": [
      "from sqlalchemy import create_engine, Column, Integer, String, Float\n",
      "from sqlalchemy.ext.declarative import declarative_base\n",
      "\n",
      "engine = create_engine ('sqlite:///:memory:', echo = False)\n",
      "Base = declarative_base()"
     ],
     "language": "python",
     "metadata": {},
     "outputs": [],
     "prompt_number": 1
    },
    {
     "cell_type": "code",
     "collapsed": false,
     "input": [],
     "language": "python",
     "metadata": {},
     "outputs": [],
     "prompt_number": 2
    },
    {
     "cell_type": "markdown",
     "metadata": {},
     "source": [
      "__Now let's generate that Photometry object I mentioned before. Give it the following columns: a string column named filter; a float column named mag; a string column named comments. Don't add this to the engine just yet.__ We'll still need to create the relationship."
     ]
    },
    {
     "cell_type": "code",
     "collapsed": false,
     "input": [],
     "language": "python",
     "metadata": {},
     "outputs": [],
     "prompt_number": 3
    },
    {
     "cell_type": "markdown",
     "metadata": {},
     "source": [
      "To create the relationship, we need to add a ForeignKey column to the object. Normally you would just add the additional column information into the class definition directly, but you can also modify the class after the fact."
     ]
    },
    {
     "cell_type": "code",
     "collapsed": false,
     "input": [
      "from sqlalchemy import ForeignKey\n",
      "from sqlalchemy.orm import relationship, backref\n",
      "\n",
      "Photometry.star_id = Column (Integer, ForeignKey(\"stars.id\")) # This is the actual ForeignKey column\n",
      "Photometry.star = relationship (\"Star\", backref = backref (\"photometry_set\")) # This \n",
      "    # will let you type photometry.star or star.photometry_set and get the actual related objects.\n",
      "    # I chose \"photometry_set\", but you can use whatever valid Python variable name you like"
     ],
     "language": "python",
     "metadata": {},
     "outputs": [],
     "prompt_number": 4
    },
    {
     "cell_type": "markdown",
     "metadata": {},
     "source": [
      "__Now, you can add the class to the engine, as before, and don't forget to create the Session class.__"
     ]
    },
    {
     "cell_type": "code",
     "collapsed": false,
     "input": [],
     "language": "python",
     "metadata": {},
     "outputs": [],
     "prompt_number": 5
    },
    {
     "cell_type": "markdown",
     "metadata": {},
     "source": [
      "Assuming you've done everything correctly, you've now set up a one to many relationship through SQLAlchemy. Rather than continuing with our toy stars, let's load some real data. I've collected a bunch of stars for you from the SDSS DR7 in M13."
     ]
    },
    {
     "cell_type": "code",
     "collapsed": false,
     "input": [
      "import numpy as np\n",
      "\n",
      "session = Session ()\n",
      "\n",
      "data = np.genfromtxt (\"sdss-dr7-m13.csv\", names = True, delimiter = ',', dtype = None)"
     ],
     "language": "python",
     "metadata": {},
     "outputs": [],
     "prompt_number": 6
    },
    {
     "cell_type": "markdown",
     "metadata": {},
     "source": [
      "Let's look at one of these stars:"
     ]
    },
    {
     "cell_type": "code",
     "collapsed": false,
     "input": [
      "filters = ('u', 'g', 'r', 'i', 'z')\n",
      "\n",
      "datum = data [0]\n",
      "print (\"ID\", datum [\"objid\"])\n",
      "print (\"RA\", datum [\"ra\"])\n",
      "print (\"DEC\", datum [\"dec\"])\n",
      "print ()\n",
      "for filter in filters:\n",
      "    print (filter, datum [filter])"
     ],
     "language": "python",
     "metadata": {},
     "outputs": [
      {
       "output_type": "stream",
       "stream": "stdout",
       "text": [
        "ID 587733609092088934\n",
        "RA 250.01783886\n",
        "DEC 36.45578947\n",
        "\n",
        "u 25.488085\n",
        "g 23.408033\n",
        "r 22.248293\n",
        "i 22.402548\n",
        "z 21.924389\n"
       ]
      }
     ],
     "prompt_number": 7
    },
    {
     "cell_type": "markdown",
     "metadata": {},
     "source": [
      "__Now, make a database entry for this star, called star. Also make five Photometry objects called uPhot, gPhot, rPhot, iPhot, and zPhot for that star.__"
     ]
    },
    {
     "cell_type": "code",
     "collapsed": false,
     "input": [],
     "language": "python",
     "metadata": {},
     "outputs": [],
     "prompt_number": 9
    },
    {
     "cell_type": "markdown",
     "metadata": {},
     "source": [
      "Now, we can declare the relationship between our objects. Thanks to that work we did earlier, this is a fairly trivial task."
     ]
    },
    {
     "cell_type": "code",
     "collapsed": false,
     "input": [
      "uPhot.star = star\n",
      "gPhot.star = star\n",
      "rPhot.star = star\n",
      "iPhot.star = star\n",
      "zPhot.star = star"
     ],
     "language": "python",
     "metadata": {},
     "outputs": [],
     "prompt_number": 10
    },
    {
     "cell_type": "markdown",
     "metadata": {},
     "source": [
      "Don't forget to add star to the session and commit the session to the database. Note: any objects related to an object added to the session are automatically added, so you don't need to add all the photometry objects to the database manually. This is due to a process called <b>cascading</b>, which can be extremely powerful, but which I won't address much here. You should also check that the photometry objects were indeed added by querying the database."
     ]
    },
    {
     "cell_type": "code",
     "collapsed": false,
     "input": [
      "session.add (star)\n",
      "session.commit ()\n",
      "\n",
      "session.query (Photometry).all ()"
     ],
     "language": "python",
     "metadata": {},
     "outputs": [
      {
       "metadata": {},
       "output_type": "pyout",
       "prompt_number": 11,
       "text": [
        "[<__main__.Photometry at 0x113242fd0>,\n",
        " <__main__.Photometry at 0x113242f98>,\n",
        " <__main__.Photometry at 0x11326e9b0>,\n",
        " <__main__.Photometry at 0x11326ea20>,\n",
        " <__main__.Photometry at 0x11326ea90>]"
       ]
      }
     ],
     "prompt_number": 11
    },
    {
     "cell_type": "markdown",
     "metadata": {},
     "source": [
      "Well done. __Now do it for the rest of the objects in the file. Warning: Make sure not to readd the star you just added above.__ Remember, we required the object id to be unique (and for good reason). If you accidentally readd it, you'll get an integrity error. Roll back and try again."
     ]
    },
    {
     "cell_type": "code",
     "collapsed": false,
     "input": [],
     "language": "python",
     "metadata": {},
     "outputs": [],
     "prompt_number": 12
    },
    {
     "cell_type": "markdown",
     "metadata": {},
     "source": [
      "Nicely done! You've set up a relational database with stars and photometry from SDSS. A comment about style: we decided to make the photometry its own object rather than folding it into the Star object. This is for a couple reasons: if we want to track the photometry over time, we'll need to have multiple values for each filter. This brings up an interesting point: you can't put an array into a database column. If you want to have multiple values of a particular thing, you'll need to set up a new table and add a one to many relationship from there. In addition, we can add an arbitrary number of filters to each object. If we had declared the columns within the star class, we would be restricted to those filters.\n",
      "\n",
      "On the other hand, this method is less space efficient than including the columns directly in the Star object, so there is a trade off. If you know your filters ahead of time and know there will only be one value for each, use the space efficient method."
     ]
    },
    {
     "cell_type": "markdown",
     "metadata": {},
     "source": [
      "<h3>Querying with Relationships: Joining Queries</h3>\n",
      "\n",
      "Now that you've got a database with relationships, you'll likely want to know how to query them. This is done through a <b>join</b> command. Effectively, this lets you query by the properties of both the Star and Photometry objects simultaneously. The syntax is as follows:"
     ]
    },
    {
     "cell_type": "code",
     "collapsed": false,
     "input": [
      "query = session.query (Star).join (Photometry)"
     ],
     "language": "python",
     "metadata": {},
     "outputs": [],
     "prompt_number": 13
    },
    {
     "cell_type": "markdown",
     "metadata": {},
     "source": [
      "This is a query for a set of Star objects, but if you filter by any property of the Photometry object, only stars with a photometry object that matches ALL your filters will be returned. __Try to count all the stars with g magnitude less than 14.5.__ Feel free to use the query object you created above to avoid having to type out the whole query and join syntax."
     ]
    },
    {
     "cell_type": "code",
     "collapsed": false,
     "input": [],
     "language": "python",
     "metadata": {},
     "outputs": [],
     "prompt_number": 20
    },
    {
     "cell_type": "markdown",
     "metadata": {},
     "source": [
      "In addition to the normal boolean operators that can be used in filters, there are several additional operations that can assist with narrowing queries. Say you want to return all stars that have an observation in g (which in this case is all of them. You could do it as follows."
     ]
    },
    {
     "cell_type": "code",
     "collapsed": false,
     "input": [
      "session.query (Star).filter (Star.photometry_set.any (filter = \"g\")).count ()"
     ],
     "language": "python",
     "metadata": {},
     "outputs": [
      {
       "metadata": {},
       "output_type": "pyout",
       "prompt_number": 15,
       "text": [
        "1478"
       ]
      }
     ],
     "prompt_number": 15
    },
    {
     "cell_type": "markdown",
     "metadata": {},
     "source": [
      "You could also get all the photometry for a specific object using has:"
     ]
    },
    {
     "cell_type": "code",
     "collapsed": false,
     "input": [
      "phots = session.query (Photometry).filter (Photometry.star.has (name = \"587733609092088934\")).all ()"
     ],
     "language": "python",
     "metadata": {},
     "outputs": [],
     "prompt_number": 17
    },
    {
     "cell_type": "markdown",
     "metadata": {},
     "source": [
      "These may not be exceptionally useful in our pretty simple database, but they're good to keep in mind as the database gets more complicated. I'll show you how to use the contains method in the many to many notebook.\n",
      "\n",
      "There is a lot you can do with these joining queries, and I've only covered a few topics. To see more detail, check out the SQLAlchemy ORM tutorial. If you're ready to move on to learning many to many relationships, go to the <a href=\"Many to Many.ipynb\">many to many notebook</a>. If you'd rather see some practical applications, go to the <a href=\"Examples.ipynb\">practical examples.</a> If you want to learn more about one to many relationships, keep reading."
     ]
    },
    {
     "cell_type": "code",
     "collapsed": false,
     "input": [],
     "language": "python",
     "metadata": {},
     "outputs": [],
     "prompt_number": 18
    },
    {
     "cell_type": "markdown",
     "metadata": {},
     "source": [
      "<h3>Cascading</h3>\n",
      "\n",
      "Cascading is an exceptionally useful tool in relational databases. Effectively, this means that when you do something to an object, like create it or delete it, do something to all the objects related to it. Let's try deleting one of the stars in the database:"
     ]
    },
    {
     "cell_type": "code",
     "collapsed": false,
     "input": [
      "session.delete (star)"
     ],
     "language": "python",
     "metadata": {},
     "outputs": [],
     "prompt_number": 19
    },
    {
     "cell_type": "markdown",
     "metadata": {},
     "source": [
      "All right, that star has been deleted, but what happened to the Photometry objects that were connected to it? I'll spoil the ending for you: <i>they're still in the database</i>. We can see this by querying the database for Photometry objects that have no star object, i.e. orphaned objects."
     ]
    },
    {
     "cell_type": "code",
     "collapsed": false,
     "input": [
      "session.query (Photometry).filter (Photometry.star == None).count ()"
     ],
     "language": "python",
     "metadata": {},
     "outputs": [
      {
       "metadata": {},
       "output_type": "pyout",
       "prompt_number": 20,
       "text": [
        "5"
       ]
      }
     ],
     "prompt_number": 20
    },
    {
     "cell_type": "markdown",
     "metadata": {},
     "source": [
      "The easiest way to fix this is to change the way the relationship is set up in the classes. We can add the cascade argument in two places in the relationship. If placed directly in the relationship command, whenever the current object is deleted (the Photometry), the related object (the Star) will be. This is not the behavior we desire. We can also place the cascase in the backref, in which cause the reverse will happen. The cascade argument takes a comma-separated list of commands that indicate the behavior of the children objects when the parent changes. The delete-orphan option will make sure that when a Star is deleted, all its children will be, too.\n",
      "\n",
      "__Try copying this Photometry definition up to your Photometry definition and restarting the notebook. See whether those orphaned photometry objects still exist after you delete star.__"
     ]
    },
    {
     "cell_type": "code",
     "collapsed": false,
     "input": [
      "from sqlalchemy import ForeignKey\n",
      "from sqlalchemy.orm import relationship, backref\n",
      "\n",
      "class Photometry (Base):    \n",
      "    __tablename__ = 'photometry'\n",
      "    \n",
      "    id = Column (Integer, primary_key = True)\n",
      "\n",
      "    filter = Column (String)\n",
      "    mag = Column (Float)\n",
      "    date = Column (Float)\n",
      "    comments = Column (String)\n",
      "    \n",
      "    star_id = Column (Integer, ForeignKey(\"stars.id\"))\n",
      "    star = relationship (\"Star\", backref = backref (\"photometry_set\", cascade=\"all, delete-orphan\"))"
     ],
     "language": "python",
     "metadata": {},
     "outputs": [],
     "prompt_number": 2
    },
    {
     "cell_type": "code",
     "collapsed": false,
     "input": [],
     "language": "python",
     "metadata": {},
     "outputs": []
    }
   ],
   "metadata": {}
  }
 ]
}