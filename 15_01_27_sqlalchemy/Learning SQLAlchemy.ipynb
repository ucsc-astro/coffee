{
 "metadata": {
  "name": "",
  "signature": "sha256:1834ef0c2b3c1bae82186376fd5217f01a31d10dde6b09c086f67e4f5ca1eda6"
 },
 "nbformat": 3,
 "nbformat_minor": 0,
 "worksheets": [
  {
   "cells": [
    {
     "cell_type": "markdown",
     "metadata": {},
     "source": [
      "<h1>Learning SQLAlchemy</h1>\n",
      "<table>\n",
      "<li><a href=\"Learning SQLAlchemy.ipynb\">Basic SQLAlchemy</a>\n",
      "<li><a href=\"One to Many.ipynb\">One to Many Relationships</a>\n",
      "<li><a href=\"Many to Many.ipynb\">Many to Many Relationships</a>\n",
      "<li><a href=\"Examples.ipynb\">Practical Examples</a>\n",
      "</table>"
     ]
    },
    {
     "cell_type": "markdown",
     "metadata": {},
     "source": [
      "<h2>Basic SQLAlchemy</h2>"
     ]
    },
    {
     "cell_type": "markdown",
     "metadata": {},
     "source": [
      "<h3>What is SQL?</h3>\n",
      "\n",
      "SQL (Structured Query Language, pronounced both as S-Q-L and Sequel) is a programming language designed to interface with data held in a relational database. These are databases within which you can hold different kinds of entries and define relationships between them. For example, you can define many Star entries and many Observation entries and then define a <b>relationship</b> in that each Observation is of a specific Star or of multiple Stars.\n",
      "\n",
      "This can be exceptionally useful in working with large sets of data. Each entry in your database has a set of <b>columns</b>, which can be strings, floats, ints, or booleans (though SQLAlchemy can perform some tricks to expand this list). The power of using databases comes from the ability to query your data according to these columns. For example, the Star entry can have an RA column and a DEC column, and so, you could query for a list of Stars in a particular part of the sky. \n",
      "\n",
      "But this is thinking too small. With a relational database, you could get a list of all the stars in your database with at least three observations with good seeing above a particular magnitude in only a few lines of code. And now, with SQLAlchemy, you can do it all in Python."
     ]
    },
    {
     "cell_type": "markdown",
     "metadata": {},
     "source": [
      "<h3>What is SQLAlchemy?</h3>\n",
      "\n",
      "SQLAlchemy is a Python module that acts as an interface between Python code and a SQL database. Effectively, you can write object classes in Python whose instances are rows in a particular table in your database. This lets you manage your database straight from Python, giving you access to a full programming language of possibilities. I'll offer some practical examples in the Practical Examples notebook, but here's an example I've done in my research: you can generate plots directly from the database using an arbitrary query, and can use the relationships between database entries to make interactive plots.\n",
      "\n",
      "For more details on SQLAlchemy, check out their website <a href=\"http://www.sqlalchemy.org\">http://www.sqlalchemy.org</a>. In particular, you should walk through their <a href=\"http://www.sqlalchemy.org/docs/orm/tutorial.html\">tutorial</a> (of which I'll be giving a taste here).\n",
      "\n",
      "A final note: there are other tools to do this in Python, and another that I've used is Django. I often find that Django has a much better user interface than SQLAlchemy; however, it isn't really designed to be used just for its databasing. Django is a web framework, and <a href=\"http://stackoverflow.com/questions/579511/using-only-the-db-part-of-django\">extracting the database part of the framework looks like it would be a bit tricky</a>. If your goal is to write a database for a website, though, I'd definitely recommend Django over SQLAlchemy."
     ]
    },
    {
     "cell_type": "markdown",
     "metadata": {},
     "source": [
      "<h3>Getting Started</h3>\n",
      "\n",
      "__Instructions: Sentences in bold are instructions. These notebooks will not work unless the instructions are completed. Another note: if you find that SQLAlchemy is complaining that you are modifying an existing table, you should restart the notebook (the circular arrow in the toolbar above) and execute all the cells down from the top. This is a quirk of SQLAlchemy, and one that hopefully will make sense with some experience.__\n",
      "\n",
      "To get started using SQLAlchemy, we have to create an <b>Engine</b>. This is the interface between SQLAlchemy and the actual database, and this step points SQLAlchemy to the database of interest. \n",
      "\n",
      "For the moment, to avoid polluting your computer, we'll create a temporary database in memory as shown below. To create a real database, the first argument to create_engine should be 'dbtype://path/file_name'. The echo argument is for debugging purposes. We'll turn it on now for you to see a bit of what's going on behind the scenes, but feel free not to set it."
     ]
    },
    {
     "cell_type": "code",
     "collapsed": false,
     "input": [
      "from sqlalchemy import create_engine\n",
      "\n",
      "engine = create_engine ('sqlite:///:memory:', echo = True)"
     ],
     "language": "python",
     "metadata": {},
     "outputs": [],
     "prompt_number": 2
    },
    {
     "cell_type": "markdown",
     "metadata": {},
     "source": [
      "Now that we have the interface to our database, we need to define a table to put into the database. SQLAlchemy allows you two ways to do this: the declarative way and the classical way. For the most part, the declarative method is more \"Pythonic,\" so I'm going to focus on that one. Let's make a Star entry. To do this, we need to load the declarative method."
     ]
    },
    {
     "cell_type": "code",
     "collapsed": false,
     "input": [
      "from sqlalchemy.ext.declarative import declarative_base\n",
      "\n",
      "Base = declarative_base()"
     ],
     "language": "python",
     "metadata": {},
     "outputs": [],
     "prompt_number": 3
    },
    {
     "cell_type": "markdown",
     "metadata": {},
     "source": [
      "This generates a base class from which all of our entries will inherit. Effectively, this base class sets up all the methods that our entry object will need to work as part of a database. __Try adding ra and dec float columns.__"
     ]
    },
    {
     "cell_type": "code",
     "collapsed": false,
     "input": [
      "from sqlalchemy import Column, Integer, String, Float\n",
      "\n",
      "class Star (Base):    \n",
      "    __tablename__ = 'stars' # This is the name of the table in the database. Must be unique\n",
      "    \n",
      "# After the table's name, we add the desired columns. These contain the queryable information about\n",
      "#    the current entry.\n",
      "\n",
      "    id = Column (Integer, primary_key = True) # This is the primary key of the entry. \n",
      "# The primary key is the unique identifier of the entry. It's usually best to leave it as an int.\n",
      "\n",
      "    name = Column (String, unique = True) # The unique argument enforces uniqueness for the column\n",
      "\n",
      "\n",
      "    def __repr__ (self):\n",
      "        # A string representation of the object\n",
      "        # We can call the various columns with self.column_name, as with any normal class variable\n",
      "        return \"<Star Object %s at (RA=%f, DEC=%f)>\" % (self.name, self.ra, self.dec)\n",
      "    \n",
      "#     CheckConstraint('col2 > col3 + 5', name='check1')"
     ],
     "language": "python",
     "metadata": {},
     "outputs": [],
     "prompt_number": 4
    },
    {
     "cell_type": "markdown",
     "metadata": {},
     "source": [
      "Once the class has been declared, we need to create it in the database, i.e. we need to connect the Engine class to our new Star class. We can do this through our Base class, which will add any subclasses it can find as tables in our database. If you set echo = True in the creation of your engine, this will be a bit verbose."
     ]
    },
    {
     "cell_type": "code",
     "collapsed": false,
     "input": [
      "Base.metadata.create_all (engine) "
     ],
     "language": "python",
     "metadata": {},
     "outputs": [
      {
       "output_type": "stream",
       "stream": "stdout",
       "text": [
        "2015-01-26 11:24:48,736 INFO sqlalchemy.engine.base.Engine SELECT CAST('test plain returns' AS VARCHAR(60)) AS anon_1\n"
       ]
      },
      {
       "output_type": "stream",
       "stream": "stderr",
       "text": [
        "INFO:sqlalchemy.engine.base.Engine:SELECT CAST('test plain returns' AS VARCHAR(60)) AS anon_1\n"
       ]
      },
      {
       "output_type": "stream",
       "stream": "stdout",
       "text": [
        "2015-01-26 11:24:48,737 INFO sqlalchemy.engine.base.Engine ()\n"
       ]
      },
      {
       "output_type": "stream",
       "stream": "stderr",
       "text": [
        "INFO:sqlalchemy.engine.base.Engine:()\n"
       ]
      },
      {
       "output_type": "stream",
       "stream": "stdout",
       "text": [
        "2015-01-26 11:24:48,739 INFO sqlalchemy.engine.base.Engine SELECT CAST('test unicode returns' AS VARCHAR(60)) AS anon_1\n"
       ]
      },
      {
       "output_type": "stream",
       "stream": "stderr",
       "text": [
        "INFO:sqlalchemy.engine.base.Engine:SELECT CAST('test unicode returns' AS VARCHAR(60)) AS anon_1\n"
       ]
      },
      {
       "output_type": "stream",
       "stream": "stdout",
       "text": [
        "2015-01-26 11:24:48,739 INFO sqlalchemy.engine.base.Engine ()\n"
       ]
      },
      {
       "output_type": "stream",
       "stream": "stderr",
       "text": [
        "INFO:sqlalchemy.engine.base.Engine:()\n"
       ]
      },
      {
       "output_type": "stream",
       "stream": "stdout",
       "text": [
        "2015-01-26 11:24:48,742 INFO sqlalchemy.engine.base.Engine PRAGMA table_info(\"stars\")\n"
       ]
      },
      {
       "output_type": "stream",
       "stream": "stderr",
       "text": [
        "INFO:sqlalchemy.engine.base.Engine:PRAGMA table_info(\"stars\")\n"
       ]
      },
      {
       "output_type": "stream",
       "stream": "stdout",
       "text": [
        "2015-01-26 11:24:48,743 INFO sqlalchemy.engine.base.Engine ()\n"
       ]
      },
      {
       "output_type": "stream",
       "stream": "stderr",
       "text": [
        "INFO:sqlalchemy.engine.base.Engine:()\n"
       ]
      },
      {
       "output_type": "stream",
       "stream": "stdout",
       "text": [
        "2015-01-26 11:24:48,745 INFO sqlalchemy.engine.base.Engine \n",
        "CREATE TABLE stars (\n",
        "\tid INTEGER NOT NULL, \n",
        "\tname VARCHAR, \n",
        "\tPRIMARY KEY (id), \n",
        "\tUNIQUE (name)\n",
        ")\n",
        "\n",
        "\n"
       ]
      },
      {
       "output_type": "stream",
       "stream": "stderr",
       "text": [
        "INFO:sqlalchemy.engine.base.Engine:\n",
        "CREATE TABLE stars (\n",
        "\tid INTEGER NOT NULL, \n",
        "\tname VARCHAR, \n",
        "\tPRIMARY KEY (id), \n",
        "\tUNIQUE (name)\n",
        ")\n",
        "\n",
        "\n"
       ]
      },
      {
       "output_type": "stream",
       "stream": "stdout",
       "text": [
        "2015-01-26 11:24:48,746 INFO sqlalchemy.engine.base.Engine ()\n"
       ]
      },
      {
       "output_type": "stream",
       "stream": "stderr",
       "text": [
        "INFO:sqlalchemy.engine.base.Engine:()\n"
       ]
      },
      {
       "output_type": "stream",
       "stream": "stdout",
       "text": [
        "2015-01-26 11:24:48,748 INFO sqlalchemy.engine.base.Engine COMMIT\n"
       ]
      },
      {
       "output_type": "stream",
       "stream": "stderr",
       "text": [
        "INFO:sqlalchemy.engine.base.Engine:COMMIT\n"
       ]
      }
     ],
     "prompt_number": 8
    },
    {
     "cell_type": "markdown",
     "metadata": {},
     "source": [
      "Congratulations! You've made a database! Of course, making it and using it are two different things. To interface with the database, you need a <b>Session</b> object. This object serves as your interface to SQLAlchemy. With it, you can create, delete, modify, and query entries. The syntax follows:"
     ]
    },
    {
     "cell_type": "code",
     "collapsed": false,
     "input": [
      "from sqlalchemy.orm import sessionmaker\n",
      "\n",
      "Session = sessionmaker (bind = engine)"
     ],
     "language": "python",
     "metadata": {},
     "outputs": [],
     "prompt_number": 9
    },
    {
     "cell_type": "markdown",
     "metadata": {},
     "source": [
      "Note that Session is a class, not a class instance. When you want an instance of a session, you will need to do so explicitly (as I'll show in a moment).\n",
      "\n",
      "To give an idea of how to use this, all of the above code would exist as a Python module that defines your database and gets it ready for use. When you need to query the database, you import this module and run, for example:"
     ]
    },
    {
     "cell_type": "code",
     "collapsed": false,
     "input": [
      "session = Session () # Start the SQLAlchemy session\n",
      "\n",
      "newStar = Star (name = \"Polaris\", ra = 2.5303, dec = 89.2641) # Make a Star to put into the database\n",
      "\n",
      "session.add (newStar) # Add newStar to the database"
     ],
     "language": "python",
     "metadata": {},
     "outputs": [],
     "prompt_number": 7
    },
    {
     "cell_type": "markdown",
     "metadata": {},
     "source": [
      "We've <i>almost</i> added a new object to the database. SQLAlchemy wants to be very careful to prevent you from making mistakes. To commit the new objects to the database, use"
     ]
    },
    {
     "cell_type": "code",
     "collapsed": false,
     "input": [
      "session.commit () # Commit the changes to the database"
     ],
     "language": "python",
     "metadata": {},
     "outputs": [
      {
       "output_type": "stream",
       "stream": "stdout",
       "text": [
        "2015-01-23 20:16:14,706 INFO sqlalchemy.engine.base.Engine BEGIN (implicit)\n"
       ]
      },
      {
       "output_type": "stream",
       "stream": "stderr",
       "text": [
        "INFO:sqlalchemy.engine.base.Engine:BEGIN (implicit)\n"
       ]
      },
      {
       "output_type": "stream",
       "stream": "stdout",
       "text": [
        "2015-01-23 20:16:14,708 INFO sqlalchemy.engine.base.Engine INSERT INTO stars (name, ra, dec) VALUES (?, ?, ?)\n"
       ]
      },
      {
       "output_type": "stream",
       "stream": "stderr",
       "text": [
        "INFO:sqlalchemy.engine.base.Engine:INSERT INTO stars (name, ra, dec) VALUES (?, ?, ?)\n"
       ]
      },
      {
       "output_type": "stream",
       "stream": "stdout",
       "text": [
        "2015-01-23 20:16:14,708 INFO sqlalchemy.engine.base.Engine ('Polaris', 2.5303, 89.2641)\n"
       ]
      },
      {
       "output_type": "stream",
       "stream": "stderr",
       "text": [
        "INFO:sqlalchemy.engine.base.Engine:('Polaris', 2.5303, 89.2641)\n"
       ]
      },
      {
       "output_type": "stream",
       "stream": "stdout",
       "text": [
        "2015-01-23 20:16:14,710 INFO sqlalchemy.engine.base.Engine COMMIT\n"
       ]
      },
      {
       "output_type": "stream",
       "stream": "stderr",
       "text": [
        "INFO:sqlalchemy.engine.base.Engine:COMMIT\n"
       ]
      }
     ],
     "prompt_number": 8
    },
    {
     "cell_type": "markdown",
     "metadata": {},
     "source": [
      "And that's it! You've successfully added Polaris to the database. __Try adding a few more; these will be useful later.__ You can also try modifying the properties of newStar, but don't commit your changes just yet."
     ]
    },
    {
     "cell_type": "code",
     "collapsed": false,
     "input": [],
     "language": "python",
     "metadata": {},
     "outputs": [],
     "prompt_number": 8
    },
    {
     "cell_type": "markdown",
     "metadata": {},
     "source": [
      "We can always check whether SQLAlchemy has anything to commit with session.new and session.dirty. Note that we don't have to add newStar into the database again, the session's already tracking it."
     ]
    },
    {
     "cell_type": "code",
     "collapsed": false,
     "input": [
      "session.new"
     ],
     "language": "python",
     "metadata": {},
     "outputs": [
      {
       "metadata": {},
       "output_type": "pyout",
       "prompt_number": 9,
       "text": [
        "IdentitySet([])"
       ]
      }
     ],
     "prompt_number": 9
    },
    {
     "cell_type": "code",
     "collapsed": false,
     "input": [
      "session.dirty"
     ],
     "language": "python",
     "metadata": {},
     "outputs": [
      {
       "metadata": {},
       "output_type": "pyout",
       "prompt_number": 10,
       "text": [
        "IdentitySet([])"
       ]
      }
     ],
     "prompt_number": 10
    },
    {
     "cell_type": "code",
     "collapsed": false,
     "input": [
      "session.commit ()"
     ],
     "language": "python",
     "metadata": {},
     "outputs": [],
     "prompt_number": 11
    },
    {
     "cell_type": "markdown",
     "metadata": {},
     "source": [
      "To delete an object from the database, just use session.delete."
     ]
    },
    {
     "cell_type": "code",
     "collapsed": false,
     "input": [
      "session.delete (newStar)"
     ],
     "language": "python",
     "metadata": {},
     "outputs": [],
     "prompt_number": 12
    },
    {
     "cell_type": "markdown",
     "metadata": {},
     "source": [
      "Finally, say we didn't want to commit that last command. Just use the rollback method of session."
     ]
    },
    {
     "cell_type": "code",
     "collapsed": false,
     "input": [
      "session.rollback ()"
     ],
     "language": "python",
     "metadata": {},
     "outputs": [],
     "prompt_number": 13
    },
    {
     "cell_type": "markdown",
     "metadata": {},
     "source": [
      "That's all there is to adding and deleting entries with SQLAlchemy! But of course, we haven't actually <i>checked</i> that the things we've added are in the database. This brings us to our next point: querying the database. "
     ]
    },
    {
     "cell_type": "markdown",
     "metadata": {},
     "source": [
      "<h3>Querying the Database</h3>\n",
      "\n",
      "The power of databases comes from your ability to query them. Effectively, you need to tell SQLAlchemy what to look for in the database. An interesting note here: when you call a query, this returns a Query object, not the results of that query. You'll see what I mean in a minute.\n",
      "\n",
      "To query the database, use the query method of the session object. This takes as arguments the types of objects you'd like to query. In this case, we're querying the Star object."
     ]
    },
    {
     "cell_type": "code",
     "collapsed": false,
     "input": [
      "session.query (Star)"
     ],
     "language": "python",
     "metadata": {},
     "outputs": [
      {
       "metadata": {},
       "output_type": "pyout",
       "prompt_number": 14,
       "text": [
        "<sqlalchemy.orm.query.Query at 0x1053eb358>"
       ]
      }
     ],
     "prompt_number": 14
    },
    {
     "cell_type": "markdown",
     "metadata": {},
     "source": [
      "As I said, this returns a Query object. The power of this is that <i>SQLAlchemy won't actually look through the database until it actually needs to</i>. This can be very useful when you start to use filters, but for the moment, let's figure out how to retrieve objects from the database:"
     ]
    },
    {
     "cell_type": "code",
     "collapsed": false,
     "input": [
      "query = session.query (Star)\n",
      "\n",
      "query.all () # Outputs a list of everything that matches the query"
     ],
     "language": "python",
     "metadata": {},
     "outputs": [
      {
       "output_type": "stream",
       "stream": "stdout",
       "text": [
        "2015-01-23 20:16:21,577 INFO sqlalchemy.engine.base.Engine BEGIN (implicit)\n"
       ]
      },
      {
       "output_type": "stream",
       "stream": "stderr",
       "text": [
        "INFO:sqlalchemy.engine.base.Engine:BEGIN (implicit)\n"
       ]
      },
      {
       "output_type": "stream",
       "stream": "stdout",
       "text": [
        "2015-01-23 20:16:21,578 INFO sqlalchemy.engine.base.Engine SELECT stars.id AS stars_id, stars.name AS stars_name, stars.ra AS stars_ra, stars.dec AS stars_dec \n",
        "FROM stars\n"
       ]
      },
      {
       "output_type": "stream",
       "stream": "stderr",
       "text": [
        "INFO:sqlalchemy.engine.base.Engine:SELECT stars.id AS stars_id, stars.name AS stars_name, stars.ra AS stars_ra, stars.dec AS stars_dec \n",
        "FROM stars\n"
       ]
      },
      {
       "output_type": "stream",
       "stream": "stdout",
       "text": [
        "2015-01-23 20:16:21,579 INFO sqlalchemy.engine.base.Engine ()\n"
       ]
      },
      {
       "output_type": "stream",
       "stream": "stderr",
       "text": [
        "INFO:sqlalchemy.engine.base.Engine:()\n"
       ]
      },
      {
       "metadata": {},
       "output_type": "pyout",
       "prompt_number": 15,
       "text": [
        "[<Star Object Polaris at (RA=2.530300, DEC=89.264100)>]"
       ]
      }
     ],
     "prompt_number": 15
    },
    {
     "cell_type": "code",
     "collapsed": false,
     "input": [
      "query.order_by (Star.ra).first () # Outputs the first entry found, should be used with order_by"
     ],
     "language": "python",
     "metadata": {},
     "outputs": [
      {
       "output_type": "stream",
       "stream": "stdout",
       "text": [
        "2015-01-23 20:16:22,057 INFO sqlalchemy.engine.base.Engine SELECT stars.id AS stars_id, stars.name AS stars_name, stars.ra AS stars_ra, stars.dec AS stars_dec \n",
        "FROM stars ORDER BY stars.ra\n",
        " LIMIT ? OFFSET ?\n"
       ]
      },
      {
       "output_type": "stream",
       "stream": "stderr",
       "text": [
        "INFO:sqlalchemy.engine.base.Engine:SELECT stars.id AS stars_id, stars.name AS stars_name, stars.ra AS stars_ra, stars.dec AS stars_dec \n",
        "FROM stars ORDER BY stars.ra\n",
        " LIMIT ? OFFSET ?\n"
       ]
      },
      {
       "output_type": "stream",
       "stream": "stdout",
       "text": [
        "2015-01-23 20:16:22,058 INFO sqlalchemy.engine.base.Engine (1, 0)\n"
       ]
      },
      {
       "output_type": "stream",
       "stream": "stderr",
       "text": [
        "INFO:sqlalchemy.engine.base.Engine:(1, 0)\n"
       ]
      },
      {
       "metadata": {},
       "output_type": "pyout",
       "prompt_number": 16,
       "text": [
        "<Star Object Polaris at (RA=2.530300, DEC=89.264100)>"
       ]
      }
     ],
     "prompt_number": 16
    },
    {
     "cell_type": "code",
     "collapsed": false,
     "input": [
      "query.count () # Outputs the number of matches"
     ],
     "language": "python",
     "metadata": {},
     "outputs": [
      {
       "output_type": "stream",
       "stream": "stdout",
       "text": [
        "2015-01-14 19:06:15,157 INFO sqlalchemy.engine.base.Engine SELECT count(*) AS count_1 \n",
        "FROM (SELECT stars.id AS stars_id, stars.name AS stars_name, stars.dec AS stars_dec, stars.ra AS stars_ra \n",
        "FROM stars) AS anon_1\n"
       ]
      },
      {
       "output_type": "stream",
       "stream": "stderr",
       "text": [
        "INFO:sqlalchemy.engine.base.Engine:SELECT count(*) AS count_1 \n",
        "FROM (SELECT stars.id AS stars_id, stars.name AS stars_name, stars.dec AS stars_dec, stars.ra AS stars_ra \n",
        "FROM stars) AS anon_1\n"
       ]
      },
      {
       "output_type": "stream",
       "stream": "stdout",
       "text": [
        "2015-01-14 19:06:15,157 INFO sqlalchemy.engine.base.Engine ()\n"
       ]
      },
      {
       "output_type": "stream",
       "stream": "stderr",
       "text": [
        "INFO:sqlalchemy.engine.base.Engine:()\n"
       ]
      },
      {
       "metadata": {},
       "output_type": "pyout",
       "prompt_number": 21,
       "text": [
        "2"
       ]
      }
     ],
     "prompt_number": 21
    },
    {
     "cell_type": "code",
     "collapsed": false,
     "input": [
      "query.one () # If there's only one match, output it; otherwise, raise an error"
     ],
     "language": "python",
     "metadata": {},
     "outputs": [
      {
       "output_type": "stream",
       "stream": "stdout",
       "text": [
        "2015-01-14 19:07:20,575 INFO sqlalchemy.engine.base.Engine SELECT stars.id AS stars_id, stars.name AS stars_name, stars.dec AS stars_dec, stars.ra AS stars_ra \n",
        "FROM stars\n"
       ]
      },
      {
       "output_type": "stream",
       "stream": "stderr",
       "text": [
        "INFO:sqlalchemy.engine.base.Engine:SELECT stars.id AS stars_id, stars.name AS stars_name, stars.dec AS stars_dec, stars.ra AS stars_ra \n",
        "FROM stars\n"
       ]
      },
      {
       "output_type": "stream",
       "stream": "stdout",
       "text": [
        "2015-01-14 19:07:20,576 INFO sqlalchemy.engine.base.Engine ()\n"
       ]
      },
      {
       "output_type": "stream",
       "stream": "stderr",
       "text": [
        "INFO:sqlalchemy.engine.base.Engine:()\n"
       ]
      },
      {
       "ename": "MultipleResultsFound",
       "evalue": "Multiple rows were found for one()",
       "output_type": "pyerr",
       "traceback": [
        "\u001b[0;31m---------------------------------------------------------------------------\u001b[0m\n\u001b[0;31mMultipleResultsFound\u001b[0m                      Traceback (most recent call last)",
        "\u001b[0;32m<ipython-input-23-91f992e02acb>\u001b[0m in \u001b[0;36m<module>\u001b[0;34m()\u001b[0m\n\u001b[0;32m----> 1\u001b[0;31m \u001b[0mquery\u001b[0m\u001b[0;34m.\u001b[0m\u001b[0mone\u001b[0m \u001b[0;34m(\u001b[0m\u001b[0;34m)\u001b[0m \u001b[0;31m# If there's only one match, output it; otherwise, raise an error\u001b[0m\u001b[0;34m\u001b[0m\u001b[0m\n\u001b[0m",
        "\u001b[0;32m/opt/local/Library/Frameworks/Python.framework/Versions/3.4/lib/python3.4/site-packages/sqlalchemy/orm/query.py\u001b[0m in \u001b[0;36mone\u001b[0;34m(self)\u001b[0m\n\u001b[1;32m   2376\u001b[0m         \u001b[0;32melse\u001b[0m\u001b[0;34m:\u001b[0m\u001b[0;34m\u001b[0m\u001b[0m\n\u001b[1;32m   2377\u001b[0m             raise orm_exc.MultipleResultsFound(\n\u001b[0;32m-> 2378\u001b[0;31m                 \"Multiple rows were found for one()\")\n\u001b[0m\u001b[1;32m   2379\u001b[0m \u001b[0;34m\u001b[0m\u001b[0m\n\u001b[1;32m   2380\u001b[0m     \u001b[0;32mdef\u001b[0m \u001b[0mscalar\u001b[0m\u001b[0;34m(\u001b[0m\u001b[0mself\u001b[0m\u001b[0;34m)\u001b[0m\u001b[0;34m:\u001b[0m\u001b[0;34m\u001b[0m\u001b[0m\n",
        "\u001b[0;31mMultipleResultsFound\u001b[0m: Multiple rows were found for one()"
       ]
      }
     ],
     "prompt_number": 23
    },
    {
     "cell_type": "markdown",
     "metadata": {},
     "source": [
      "These queries can be filtered and ordered as well."
     ]
    },
    {
     "cell_type": "code",
     "collapsed": false,
     "input": [
      "query.filter (Star.ra < 5).all ()"
     ],
     "language": "python",
     "metadata": {},
     "outputs": [
      {
       "output_type": "stream",
       "stream": "stdout",
       "text": [
        "2015-01-14 19:09:16,110 INFO sqlalchemy.engine.base.Engine SELECT stars.id AS stars_id, stars.name AS stars_name, stars.dec AS stars_dec, stars.ra AS stars_ra \n",
        "FROM stars \n",
        "WHERE stars.ra < ?\n"
       ]
      },
      {
       "output_type": "stream",
       "stream": "stderr",
       "text": [
        "INFO:sqlalchemy.engine.base.Engine:SELECT stars.id AS stars_id, stars.name AS stars_name, stars.dec AS stars_dec, stars.ra AS stars_ra \n",
        "FROM stars \n",
        "WHERE stars.ra < ?\n"
       ]
      },
      {
       "output_type": "stream",
       "stream": "stdout",
       "text": [
        "2015-01-14 19:09:16,110 INFO sqlalchemy.engine.base.Engine (5,)\n"
       ]
      },
      {
       "output_type": "stream",
       "stream": "stderr",
       "text": [
        "INFO:sqlalchemy.engine.base.Engine:(5,)\n"
       ]
      },
      {
       "metadata": {},
       "output_type": "pyout",
       "prompt_number": 25,
       "text": [
        "[<Star Object Alpha Ursae Minoris at (RA=2.530300, DEC=89.264100)>]"
       ]
      }
     ],
     "prompt_number": 25
    },
    {
     "cell_type": "code",
     "collapsed": false,
     "input": [
      "query.order_by (Star.dec).all ()"
     ],
     "language": "python",
     "metadata": {},
     "outputs": [
      {
       "output_type": "stream",
       "stream": "stdout",
       "text": [
        "2015-01-14 19:10:07,986 INFO sqlalchemy.engine.base.Engine SELECT stars.id AS stars_id, stars.name AS stars_name, stars.dec AS stars_dec, stars.ra AS stars_ra \n",
        "FROM stars ORDER BY stars.dec\n"
       ]
      },
      {
       "output_type": "stream",
       "stream": "stderr",
       "text": [
        "INFO:sqlalchemy.engine.base.Engine:SELECT stars.id AS stars_id, stars.name AS stars_name, stars.dec AS stars_dec, stars.ra AS stars_ra \n",
        "FROM stars ORDER BY stars.dec\n"
       ]
      },
      {
       "output_type": "stream",
       "stream": "stdout",
       "text": [
        "2015-01-14 19:10:07,987 INFO sqlalchemy.engine.base.Engine ()\n"
       ]
      },
      {
       "output_type": "stream",
       "stream": "stderr",
       "text": [
        "INFO:sqlalchemy.engine.base.Engine:()\n"
       ]
      },
      {
       "metadata": {},
       "output_type": "pyout",
       "prompt_number": 28,
       "text": [
        "[<Star Object Alpha Orionis at (RA=5.920000, DEC=7.407100)>,\n",
        " <Star Object Alpha Ursae Minoris at (RA=2.530300, DEC=89.264100)>]"
       ]
      }
     ],
     "prompt_number": 28
    },
    {
     "cell_type": "markdown",
     "metadata": {},
     "source": [
      "But remember, this is Python. Star.ra and Star.dec are Column objects, and the SQLAlchemy team have added algebraic operations to these objects, so you can filter and order by combinations of columns."
     ]
    },
    {
     "cell_type": "code",
     "collapsed": false,
     "input": [
      "query.filter (Star.ra - Star.dec / 2 < 5).all ()"
     ],
     "language": "python",
     "metadata": {},
     "outputs": [
      {
       "output_type": "stream",
       "stream": "stdout",
       "text": [
        "2015-01-14 19:13:44,505 INFO sqlalchemy.engine.base.Engine SELECT stars.id AS stars_id, stars.name AS stars_name, stars.dec AS stars_dec, stars.ra AS stars_ra \n",
        "FROM stars \n",
        "WHERE stars.ra - stars.dec / ? < ?\n"
       ]
      },
      {
       "output_type": "stream",
       "stream": "stderr",
       "text": [
        "INFO:sqlalchemy.engine.base.Engine:SELECT stars.id AS stars_id, stars.name AS stars_name, stars.dec AS stars_dec, stars.ra AS stars_ra \n",
        "FROM stars \n",
        "WHERE stars.ra - stars.dec / ? < ?\n"
       ]
      },
      {
       "output_type": "stream",
       "stream": "stdout",
       "text": [
        "2015-01-14 19:13:44,506 INFO sqlalchemy.engine.base.Engine (2, 5)\n"
       ]
      },
      {
       "output_type": "stream",
       "stream": "stderr",
       "text": [
        "INFO:sqlalchemy.engine.base.Engine:(2, 5)\n"
       ]
      },
      {
       "metadata": {},
       "output_type": "pyout",
       "prompt_number": 30,
       "text": [
        "[<Star Object Alpha Ursae Minoris at (RA=2.530300, DEC=89.264100)>,\n",
        " <Star Object Alpha Orionis at (RA=5.920000, DEC=7.407100)>]"
       ]
      }
     ],
     "prompt_number": 30
    },
    {
     "cell_type": "markdown",
     "metadata": {},
     "source": [
      "The filter method returns another Query object, so you can continue to add filters and orderings."
     ]
    },
    {
     "cell_type": "code",
     "collapsed": false,
     "input": [
      "query.filter (Star.ra < 5).filter (Star.dec > 0).all ()"
     ],
     "language": "python",
     "metadata": {},
     "outputs": [
      {
       "output_type": "stream",
       "stream": "stdout",
       "text": [
        "2015-01-14 19:25:31,117 INFO sqlalchemy.engine.base.Engine SELECT stars.id AS stars_id, stars.name AS stars_name, stars.dec AS stars_dec, stars.ra AS stars_ra \n",
        "FROM stars \n",
        "WHERE stars.ra < ? AND stars.dec > ?\n"
       ]
      },
      {
       "output_type": "stream",
       "stream": "stderr",
       "text": [
        "INFO:sqlalchemy.engine.base.Engine:SELECT stars.id AS stars_id, stars.name AS stars_name, stars.dec AS stars_dec, stars.ra AS stars_ra \n",
        "FROM stars \n",
        "WHERE stars.ra < ? AND stars.dec > ?\n"
       ]
      },
      {
       "output_type": "stream",
       "stream": "stdout",
       "text": [
        "2015-01-14 19:25:31,118 INFO sqlalchemy.engine.base.Engine (5, 0)\n"
       ]
      },
      {
       "output_type": "stream",
       "stream": "stderr",
       "text": [
        "INFO:sqlalchemy.engine.base.Engine:(5, 0)\n"
       ]
      },
      {
       "metadata": {},
       "output_type": "pyout",
       "prompt_number": 37,
       "text": [
        "[<Star Object Alpha Ursae Minoris at (RA=2.530300, DEC=89.264100)>]"
       ]
      }
     ],
     "prompt_number": 37
    },
    {
     "cell_type": "markdown",
     "metadata": {},
     "source": [
      "__Feel free to play around. You might want to add some more entries to the database so that you can truly see what you can do. In what order do things pop out when you order by one column and then another?__"
     ]
    },
    {
     "cell_type": "code",
     "collapsed": false,
     "input": [],
     "language": "python",
     "metadata": {},
     "outputs": [],
     "prompt_number": 37
    },
    {
     "cell_type": "markdown",
     "metadata": {},
     "source": [
      "You now have a good amount of experience with adding entries to a table that already exists and with querying that database using filters. For more information on this, check out the documentation (or just search in StackOverflow). It will generally help if you can figure out the terminology for what you're trying to do in SQL (e.g. union, subquery), as that will help narrow your search.\n",
      "\n",
      "If you're bored of normal, non-relational databases, follow the <a href=\"One to Many.ipynb\">link</a> to the next notebook! If you want to learn how to add constraints to your objects, keep reading."
     ]
    },
    {
     "cell_type": "markdown",
     "metadata": {},
     "source": [
      "<h3>Adding Constraints</h3>\n",
      "\n",
      "Another convenient aspect of databases is the ability to add constraints. These will effectively set certain conditions on anything added to the database and raise an error if anything that violates these constraints is added to the database. You've already seen one of these constraints, the <b>unique constraint</b>, which forces a particular column to be unique in the database. However, we can take this a step further. What if we want two columns to be <b>unique together</b>? For example, what if we want to make sure that no two stars in our database have the exact same RA and the exact same Dec? We do this by explicitly adding a constraint."
     ]
    },
    {
     "cell_type": "code",
     "collapsed": false,
     "input": [
      "from sqlalchemy import UniqueConstraint\n",
      "from sqlalchemy import Column, Integer, String, Float\n",
      "\n",
      "class Star (Base):    \n",
      "    __tablename__ = 'stars' # This is the name of the table in the database. Must be unique\n",
      "    \n",
      "# After the table's name, we add the desired columns. These contain the queryable information about\n",
      "#    the current entry.\n",
      "\n",
      "    id = Column (Integer, primary_key = True) # This is the primary key of the entry. \n",
      "# The primary key is the unique identifier of the entry. It's usually best to leave it as an int.\n",
      "\n",
      "    name = Column (String, unique = True) # The unique argument enforces uniqueness for the column\n",
      "    \n",
      "    ra = Column (Float)\n",
      "    dec = Column (Float)\n",
      "    \n",
      "    __table_args__ = (UniqueConstraint (\"ra\", \"dec\"),)\n",
      "    \n",
      "    def __repr__ (self):\n",
      "        # A string representation of the object\n",
      "        # We can call the various columns with self.column_name, as with any normal class variable\n",
      "        return \"<Star Object %s at (RA=%f, DEC=%f)>\" % (self.name, self.ra, self.dec)"
     ],
     "language": "python",
     "metadata": {},
     "outputs": [],
     "prompt_number": 3
    },
    {
     "cell_type": "markdown",
     "metadata": {},
     "source": [
      "Paste this new definition of Star up to the original definition and restart the notebook (each time you change the table in the database, you'll most likely want to nuke the database and bring it back from scratch; there are ways to avoid this, called __migrations__, but these are quite complicated and usually not worth it except in production level databases). __Try adding two stars with different names but the same RA and Dec and see if you get an error.__"
     ]
    },
    {
     "cell_type": "code",
     "collapsed": false,
     "input": [],
     "language": "python",
     "metadata": {},
     "outputs": []
    },
    {
     "cell_type": "markdown",
     "metadata": {},
     "source": [
      "The new piece we've added is the \\_\\_table\\_args\\_\\_ member of the object. This is a special object that SQLAlchemy will read to add special commands to your database. Among other things, constraints are placed here. This member should be a tuple of all the constraints you want to add to your object. Let's look at another type of constraint, the <b>check constraint</b>. This makes sure that certain conditions are met and has the following notation:"
     ]
    },
    {
     "cell_type": "code",
     "collapsed": false,
     "input": [
      "from sqlalchemy import CheckConstraint\n",
      "\n",
      "CheckConstraint (\"ra < 24\")"
     ],
     "language": "python",
     "metadata": {},
     "outputs": [
      {
       "metadata": {},
       "output_type": "pyout",
       "prompt_number": 8,
       "text": [
        "CheckConstraint(<sqlalchemy.sql.elements.TextClause object at 0x10cb86278>)"
       ]
      }
     ],
     "prompt_number": 8
    },
    {
     "cell_type": "markdown",
     "metadata": {},
     "source": [
      "__Try adding this constraint in addition to a minimum for RA and likewise for Dec to your Star.__"
     ]
    },
    {
     "cell_type": "code",
     "collapsed": false,
     "input": [],
     "language": "python",
     "metadata": {},
     "outputs": []
    }
   ],
   "metadata": {}
  }
 ]
}