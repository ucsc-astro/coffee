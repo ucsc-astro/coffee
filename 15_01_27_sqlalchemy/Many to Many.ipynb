{
 "metadata": {
  "name": "",
  "signature": "sha256:a5f04dd46221cd1cb34f3719c5ed114e4b213133faf9610664e22c344d8a6b4e"
 },
 "nbformat": 3,
 "nbformat_minor": 0,
 "worksheets": [
  {
   "cells": [
    {
     "cell_type": "markdown",
     "metadata": {},
     "source": [
      "<h1>Learning SQLAlchemy</h1>\n",
      "<table>\n",
      "<li><a href=\"Learning SQLAlchemy.ipynb\">Basic SQLAlchemy</a>\n",
      "<li><a href=\"One to Many.ipynb\">One to Many Relationships</a>\n",
      "<li><a href=\"Many to Many.ipynb\">Many to Many Relationships</a>\n",
      "<li><a href=\"Examples.ipynb\">Practical Examples</a>\n",
      "</table>"
     ]
    },
    {
     "cell_type": "markdown",
     "metadata": {},
     "source": [
      "<h2>Many to Many Relationships</h2>\n",
      "\n",
      "A many to many relationship is one in which an object can be related to a set of related objects and each of those related objects can be related to a set of original objects. A good and useful example of this is the concept of tags. An object can usually have multiple tags, and each of those tags can be associated with multiple objects.\n",
      "\n",
      "In a SQL database, objects are only connected to one another through foreign keys, which (you may recall from the previous notebook) are one to many. However, I promised you many to many relationships. To do this, we have to cheat. If we add an additional table, called a <b>junction table</b> to the mix, we can define a one to many relationship between our original object and the junction object and another one to many relationship between the tag object and the junction table. It sounds a bit hairy, but SQLAlchemy makes it not too bad."
     ]
    },
    {
     "cell_type": "markdown",
     "metadata": {},
     "source": [
      "<h2>Junction Tables in SQLAlchemy</h2>\n",
      "\n",
      "Making a junction table in SQLAlchemy is not as bad as it sounds. In fact, SQLAlchemy gives us a way to quickly define tables that we don't much care about. First, let's load up the objects from before."
     ]
    },
    {
     "cell_type": "code",
     "collapsed": false,
     "input": [
      "from sqlalchemy import create_engine, Column, Integer, String, Float\n",
      "from sqlalchemy.ext.declarative import declarative_base\n",
      "\n",
      "engine = create_engine ('sqlite:///:memory:', echo = False)\n",
      "Base = declarative_base()"
     ],
     "language": "python",
     "metadata": {},
     "outputs": [],
     "prompt_number": 1
    },
    {
     "cell_type": "code",
     "collapsed": false,
     "input": [
      "import numpy as np\n",
      "\n",
      "class Star (Base):    \n",
      "    __tablename__ = 'stars'\n",
      "    \n",
      "    id = Column (Integer, primary_key = True)\n",
      "\n",
      "    name = Column (String, unique = True)\n",
      "    ra = Column (Float)\n",
      "    dec = Column (Float)\n",
      "    \n",
      "    def __init__ (self, *args, **kwargs):\n",
      "        try:\n",
      "            kwargs [\"ra\"] = float (kwargs [\"ra\"])\n",
      "        except TypeError:\n",
      "            kwargs [\"ra\"] = self.raToFloat (*(kwargs [\"ra\"]))\n",
      "            \n",
      "        try:\n",
      "            kwargs [\"dec\"] = float (kwargs [\"dec\"])\n",
      "        except TypeError:\n",
      "            kwargs [\"dec\"] = self.decToFloat (*(kwargs [\"dec\"]))\n",
      "            \n",
      "        super (Star, self).__init__ (*args, **kwargs)\n",
      "\n",
      "    @staticmethod\n",
      "    def raToFloat (hours, minutes = 0.0, seconds = 0.0):\n",
      "        return np.radians ((hours + minutes / 60.0 + seconds / 3600.0) * 360 / 24)\n",
      "    \n",
      "    @staticmethod\n",
      "    def decToFloat (degrees, arcmins = 0.0, arcsecs = 0.0):\n",
      "        return np.radians ((degrees + arcmins / 60.0 + arcsecs / 3600.0))\n",
      "    \n",
      "    def __repr__ (self):\n",
      "        return \"<Star Object %s at (RA=%f, DEC=%f)>\" % (self.name, self.ra, self.dec)"
     ],
     "language": "python",
     "metadata": {},
     "outputs": [],
     "prompt_number": 2
    },
    {
     "cell_type": "markdown",
     "metadata": {},
     "source": [
      "Now let's define our junction table. We'll do this in the \"classical\" style of SQLAlchemy rather than the declarative style, which you've been using up to now. While you may not recognize the style, all the components you've been using up to now are still there. The first argument of Table is the table name, then the metadata object from Base (which you passed in by inheriting from Base), then a list of columns. Note: you don't have to define the Tag object before defining the junction object. SQLAlchemy will take care of all that when we actually attempt to create the database in a moment."
     ]
    },
    {
     "cell_type": "code",
     "collapsed": false,
     "input": [
      "from sqlalchemy import Table\n",
      "from sqlalchemy import ForeignKey\n",
      "\n",
      "star_tag = Table('star_tag', Base.metadata,\n",
      "    Column('star_id', Integer, ForeignKey('stars.id')),\n",
      "    Column('tag_id', Integer, ForeignKey('tags.id'))\n",
      ")"
     ],
     "language": "python",
     "metadata": {},
     "outputs": [],
     "prompt_number": 3
    },
    {
     "cell_type": "markdown",
     "metadata": {},
     "source": [
      "Finally, we define our Tag object, which looks just like our other class definitions, except that we need to include the junction table in the relationship as the argument \"secondary\". The get method I've added is not necessary for the function of the Tag object. It's a convenience that will automatically check whether a particular tag already exists before creating a new one."
     ]
    },
    {
     "cell_type": "code",
     "collapsed": false,
     "input": [
      "from sqlalchemy.orm import relationship\n",
      "from sqlalchemy.orm.exc import NoResultFound\n",
      "\n",
      "class Tag (Base):\n",
      "    __tablename__ = 'tags'\n",
      "    \n",
      "    id = Column(Integer, primary_key = True)\n",
      "    tag = Column(String(50), nullable=False, unique=True)\n",
      "    \n",
      "    stars = relationship ('Star', secondary = star_tag, backref = 'tags')\n",
      "\n",
      "    @classmethod\n",
      "    def get (cls, session, tag):\n",
      "        try:\n",
      "            return session.query (cls).filter_by (tag = tag).one ()\n",
      "        except NoResultFound:\n",
      "            return cls (tag = tag)\n",
      "        \n",
      "    def __repr__ (self):\n",
      "        return \"<Tag %s>\" % self.tag"
     ],
     "language": "python",
     "metadata": {},
     "outputs": [],
     "prompt_number": 4
    },
    {
     "cell_type": "code",
     "collapsed": false,
     "input": [
      "from sqlalchemy.orm import sessionmaker\n",
      "\n",
      "Base.metadata.create_all (engine)\n",
      "Session = sessionmaker (bind = engine)"
     ],
     "language": "python",
     "metadata": {},
     "outputs": [],
     "prompt_number": 5
    },
    {
     "cell_type": "markdown",
     "metadata": {},
     "source": [
      "Now that you've done that, I'll generate a dataset for you to play with. I've collected the 10 brightest stars in the night sky and have tagged them by spectral class, luminosity class, and whether that star has priority. __Add some of your own tags.__"
     ]
    },
    {
     "cell_type": "code",
     "collapsed": false,
     "input": [
      "# The 10 brightest stars in the sky (not the Sun), tagged according to spectral class, luminosity class, and priority\n",
      "\n",
      "session = Session ()\n",
      "\n",
      "sirius = Star (name = \"Sirius\", ra = (6, 45, 08.9), dec = (-16, 42, 58))\n",
      "sirius.tags.append (Tag.get (session, \"A\"))\n",
      "sirius.tags.append (Tag.get (session, \"V\"))\n",
      "sirius.tags.append (Tag.get (session, \"Priority\"))\n",
      "session.add (sirius)\n",
      "\n",
      "canopus = Star (name = \"Canopus\", ra = (6, 23, 57.1), dec = (-52, 41, 45))\n",
      "canopus.tags.append (Tag.get (session, \"F\"))\n",
      "canopus.tags.append (Tag.get (session, \"II\"))\n",
      "session.add (canopus)\n",
      "\n",
      "rigil = Star (name = \"Rigil Kentaurus\", ra = (14, 39, 35.9), dec = (-60, 50, 7))\n",
      "rigil.tags.append (Tag.get (session, \"G\"))\n",
      "rigil.tags.append (Tag.get (session, \"V\"))\n",
      "session.add (rigil)\n",
      "\n",
      "arcturus = Star (name = \"Arcturus\", ra = (14, 15, 39.7), dec = (19, 10, 57))\n",
      "arcturus.tags.append (Tag.get (session, \"K\"))\n",
      "arcturus.tags.append (Tag.get (session, \"III\"))\n",
      "arcturus.tags.append (Tag.get (session, \"Priority\"))\n",
      "session.add (arcturus)\n",
      "\n",
      "vega = Star (name = \"Vega\", ra = (18, 36, 56.3), dec = (38, 47, 1))\n",
      "vega.tags.append (Tag.get (session, \"A\"))\n",
      "vega.tags.append (Tag.get (session, \"V\"))\n",
      "vega.tags.append (Tag.get (session, \"Priority\"))\n",
      "session.add (vega)\n",
      "\n",
      "capella = Star (name = \"Capella\", ra = (5, 16, 41.4), dec = (45, 59, 53))\n",
      "capella.tags.append (Tag.get (session, \"G\"))\n",
      "capella.tags.append (Tag.get (session, \"III\"))\n",
      "session.add (capella)\n",
      "\n",
      "rigel = Star (name = \"Rigel\", ra = (5, 14, 32.3), dec = (-8, 12, 6))\n",
      "rigel.tags.append (Tag.get (session, \"B\"))\n",
      "rigel.tags.append (Tag.get (session, \"Ia\"))\n",
      "session.add (rigel)\n",
      "\n",
      "procyon = Star (name = \"Procyon\", ra = (7, 39, 18.1), dec = (5, 13, 30))\n",
      "procyon.tags.append (Tag.get (session, \"F\"))\n",
      "procyon.tags.append (Tag.get (session, \"IV\"))\n",
      "session.add (procyon)\n",
      "\n",
      "achernar = Star (name = \"Achernar\", ra = (1, 37, 42.9), dec = (-57, 14, 12))\n",
      "achernar.tags.append (Tag.get (session, \"B\"))\n",
      "achernar.tags.append (Tag.get (session, \"V\"))\n",
      "session.add (achernar)\n",
      "\n",
      "betelgeuse = Star (name = \"Betelgeuse\", ra = (5, 55, 10.3), dec = (7, 24, 25))\n",
      "betelgeuse.tags.append (Tag.get (session, \"M\"))\n",
      "betelgeuse.tags.append (Tag.get (session, \"Ia\"))\n",
      "betelgeuse.tags.append (Tag.get (session, \"Priority\"))\n",
      "session.add (betelgeuse)\n",
      "\n",
      "session.commit ()"
     ],
     "language": "python",
     "metadata": {},
     "outputs": [],
     "prompt_number": 6
    },
    {
     "cell_type": "code",
     "collapsed": false,
     "input": [],
     "language": "python",
     "metadata": {},
     "outputs": [],
     "prompt_number": 7
    },
    {
     "cell_type": "markdown",
     "metadata": {},
     "source": [
      "<h2>Querying with Many to Many Relationships</h2>\n",
      "\n",
      "Of course, what good is tagging these stars unless we know how to query against the database? All of the querying tools from one to many relationships still apply, but we can add a few more tools to the mix. In particular, the many form of the has method: the <b>contains</b> method."
     ]
    },
    {
     "cell_type": "code",
     "collapsed": false,
     "input": [
      "session.query (Star).filter (Star.tags.contains (Tag.get (session, \"Priority\"))).all ()"
     ],
     "language": "python",
     "metadata": {},
     "outputs": [
      {
       "metadata": {},
       "output_type": "pyout",
       "prompt_number": 7,
       "text": [
        "[<Star Object Sirius at (RA=1.767793, DEC=-0.266754)>,\n",
        " <Star Object Arcturus at (RA=3.733528, DEC=0.334798)>,\n",
        " <Star Object Vega at (RA=4.873563, DEC=0.676902)>,\n",
        " <Star Object Betelgeuse at (RA=1.549729, DEC=0.129276)>]"
       ]
      }
     ],
     "prompt_number": 7
    },
    {
     "cell_type": "markdown",
     "metadata": {},
     "source": [
      "Once you gain some confidence with the SQLAlchemy commands, you can do some fancy querying. Below is an example of the use of a <b>subquery</b>. In effect, this is like generating an intermediate table that can be filled with derived quantities which can then be filtered appropriately. For example, the below commands return any tags with more than 3 associated stars. For your first time through, don't worry about reading the following break down, just take a look at the result and continue on to the next notebook [here](Examples.ipynb).\n",
      "\n",
      "The break down is as follows: we'd like the subquery to return a table with two columns, a tag object and the count of how many stars are in each tag. The func.count ('\\*') command informs SQLAlchemy that we actually want a count of all the contained objects rather than a list. We label the count column as \"count\" for later use. With just that, we'd actually only get the total number of tags. We need to specify that we want to look at the contained Star objects, which we do with a join command. This joins the Tag table with the Star table; however, since Tag does not have an explicit Foreign Key to Star, we need to point it toward the relationship between the two in the second argument of join.\n",
      "\n",
      "Now, this would return the number of unique links between the Star and Tag tables, which is almost what we want. To get it to be the number of stars in a particular tag, we need to group_by that tag. Now, we get a table that looks like our original goal. We need to filter the results of this query, so we use a subquery.\n",
      "\n",
      "We now want to query the table of Tags produced by the subquery. If we try query (Tag), we query the table associated with the Tag object. To query the table associated with the subquery, we need to alias the Tag object with the subquery. We then query on the alias, and filter by the count column from the subquery.\n",
      "\n",
      "That was a lot of explanation, but the key advantage is you can do all that in three relatively simple lines of SQLAlchemy."
     ]
    },
    {
     "cell_type": "code",
     "collapsed": false,
     "input": [
      "from sqlalchemy.orm import aliased\n",
      "from sqlalchemy import func\n",
      "\n",
      "stmt = session.query (Tag, func.count ('*').label (\"count\")).join (Star, Tag.stars).group_by (Tag).subquery ()\n",
      "subtag = aliased (Tag, stmt)\n",
      "# print (stmt.all ())\n",
      "session.query (subtag).filter (stmt.c.count > 3).all ()"
     ],
     "language": "python",
     "metadata": {},
     "outputs": [
      {
       "metadata": {},
       "output_type": "pyout",
       "prompt_number": 8,
       "text": [
        "[<Tag V>, <Tag Priority>]"
       ]
      }
     ],
     "prompt_number": 8
    },
    {
     "cell_type": "code",
     "collapsed": false,
     "input": [],
     "language": "python",
     "metadata": {},
     "outputs": [],
     "prompt_number": 8
    }
   ],
   "metadata": {}
  }
 ]
}