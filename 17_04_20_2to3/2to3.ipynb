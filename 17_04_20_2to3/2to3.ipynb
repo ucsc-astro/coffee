{
 "cells": [
  {
   "cell_type": "markdown",
   "metadata": {},
   "source": [
    "# Moving from Python2 to Python3\n",
    "\n",
    "Python 2 has a limited lifetime, and by 2020, there will no longer be any active development on Python 2.\n",
    "\n",
    "http://legacy.python.org/dev/peps/pep-0373/\n",
    "\n",
    "Why?  Apparently it was easier to make a shiny new python by breaking backwards compatibility.  The good news is it's relatively painless to switch small projects over to Python 3, and most major Python packages already support Python 3 (including most of the scientific stack: numpy, scipy, pandas, astropy)."
   ]
  },
  {
   "cell_type": "code",
   "execution_count": 14,
   "metadata": {
    "collapsed": false
   },
   "outputs": [
    {
     "name": "stdout",
     "output_type": "stream",
     "text": [
      "3.5.3 (default, Mar 21 2017, 17:21:33) \n",
      "[GCC 6.3.1 20161221 (Red Hat 6.3.1-1)]\n"
     ]
    }
   ],
   "source": [
    "import sys\n",
    "print(sys.version)"
   ]
  },
  {
   "cell_type": "markdown",
   "metadata": {},
   "source": [
    "## A (non-exhaustive) list of differences between Python 2 and Python 3\n",
    "\n",
    "* `print` is now a function, no longer a keyword\n",
    "* `exec` is now a function, no longer a keyword\n",
    "* division, `/`, no longer truncates! (no more 2/3 == 0)\n",
    "* all strings are unicode (this is... controversial)\n",
    "* the functions `range()`, `zip()`, `map()`, `filter()`, `dict.keys()`, `dict.items()`, `dict.values()`, all return an iterator instead of a list\n",
    "* exceptions are handled using a slightly different syntax\n",
    "* strict comparisons, so `'a' < 1` will fail with an error\n",
    "* from the standard library, `urllib` is reorganized\n",
    "\n",
    "For a more complete list, see \n",
    "\n",
    "http://ptgmedia.pearsoncmg.com/imprint_downloads/informit/promotions/python/python2python3.pdf\n"
   ]
  },
  {
   "cell_type": "markdown",
   "metadata": {},
   "source": [
    "## Cool things in Python 3\n",
    "\n",
    "Some of these have been back-ported to Python 2.7"
   ]
  },
  {
   "cell_type": "code",
   "execution_count": 4,
   "metadata": {
    "collapsed": false
   },
   "outputs": [
    {
     "data": {
      "text/plain": [
       "[0, 1, 4, 9, 16]"
      ]
     },
     "execution_count": 4,
     "metadata": {},
     "output_type": "execute_result"
    }
   ],
   "source": [
    "# python2 has list comprehensions\n",
    "[x ** 2 for x in range(5)]"
   ]
  },
  {
   "cell_type": "code",
   "execution_count": 5,
   "metadata": {
    "collapsed": false
   },
   "outputs": [
    {
     "data": {
      "text/plain": [
       "{'0': 0, '1': 1, '2': 4, '3': 9, '4': 16}"
      ]
     },
     "execution_count": 5,
     "metadata": {},
     "output_type": "execute_result"
    }
   ],
   "source": [
    "# python3 has dict comprehensions!\n",
    "{str(x): x ** 2 for x in range(5)}"
   ]
  },
  {
   "cell_type": "code",
   "execution_count": 6,
   "metadata": {
    "collapsed": false
   },
   "outputs": [
    {
     "data": {
      "text/plain": [
       "{0, 1, 4, 9, 16}"
      ]
     },
     "execution_count": 6,
     "metadata": {},
     "output_type": "execute_result"
    }
   ],
   "source": [
    "# and set comprehensions\n",
    "{x ** 2 for x in range(5)}"
   ]
  },
  {
   "cell_type": "code",
   "execution_count": 34,
   "metadata": {
    "collapsed": false
   },
   "outputs": [
    {
     "data": {
      "text/plain": [
       "{'do': 'this', 'not': 'that', 'use': 'something', 'when': 'sometime'}"
      ]
     },
     "execution_count": 34,
     "metadata": {},
     "output_type": "execute_result"
    }
   ],
   "source": [
    "# magic dictionary concatenation\n",
    "some_kwargs = {'do': 'this', \n",
    "               'not': 'that'}\n",
    "other_kwargs = {'use': 'something', \n",
    "                'when': 'sometime'}\n",
    "{**some_kwargs, **other_kwargs}"
   ]
  },
  {
   "cell_type": "code",
   "execution_count": 16,
   "metadata": {
    "collapsed": false
   },
   "outputs": [
    {
     "name": "stdout",
     "output_type": "stream",
     "text": [
      "0\n",
      "[1, 2, 3]\n",
      "4\n"
     ]
    }
   ],
   "source": [
    "# unpacking magic\n",
    "a, *stuff, b = range(5)\n",
    "print(a)\n",
    "print(stuff)\n",
    "print(b)"
   ]
  },
  {
   "cell_type": "code",
   "execution_count": 23,
   "metadata": {
    "collapsed": false
   },
   "outputs": [
    {
     "data": {
      "text/plain": [
       "1.0"
      ]
     },
     "execution_count": 23,
     "metadata": {},
     "output_type": "execute_result"
    }
   ],
   "source": [
    "# unicode variable names!\n",
    "import numpy as np\n",
    "π = np.pi\n",
    "np.cos(2 * π)"
   ]
  },
  {
   "cell_type": "code",
   "execution_count": 32,
   "metadata": {
    "collapsed": false
   },
   "outputs": [
    {
     "name": "stdout",
     "output_type": "stream",
     "text": [
      "A = \n",
      " [[ 9 -9  8]\n",
      " [ 4  2 -9]\n",
      " [-4  0  8]]\n",
      "B = \n",
      " [[ 1  9  6]\n",
      " [ 4  7  8]\n",
      " [-3  5  5]]\n",
      "A B = \n",
      " [[-51  58  22]\n",
      " [ 39   5  -5]\n",
      " [-28   4  16]]\n",
      "A B = \n",
      " [[-51  58  22]\n",
      " [ 39   5  -5]\n",
      " [-28   4  16]]\n"
     ]
    }
   ],
   "source": [
    "# infix matrix multiplication\n",
    "A = np.random.choice(list(range(-9, 10)), size=(3, 3))\n",
    "B = np.random.choice(list(range(-9, 10)), size=(3, 3))\n",
    "print(\"A = \\n\", A)\n",
    "print(\"B = \\n\", B)\n",
    "\n",
    "print(\"A B = \\n\", A @ B)\n",
    "print(\"A B = \\n\", np.dot(A, B))"
   ]
  },
  {
   "cell_type": "markdown",
   "metadata": {},
   "source": [
    "## New string formatting\n",
    "\n",
    "The old string formatting (with `%`) is depricated in favor of `str.format()`.  A good comparison of the two can be found here: \n",
    "\n",
    "https://pyformat.info/\n",
    "\n",
    "## Unicode\n",
    "Dealing with unicode can be a pain when \\*nix doesn't give or expect unicode.  Sometimes importing data in python3 will give you strings with a weird `b` in front.  These are bytestrings, and they can usually be converted to unicode strings with `bytestring.decode('utf-8')`."
   ]
  },
  {
   "cell_type": "code",
   "execution_count": 41,
   "metadata": {
    "collapsed": false
   },
   "outputs": [
    {
     "data": {
      "text/plain": [
       "b'asdf'"
      ]
     },
     "execution_count": 41,
     "metadata": {},
     "output_type": "execute_result"
    }
   ],
   "source": [
    "s = 'asdf'\n",
    "b = s.encode('utf-8')\n",
    "b"
   ]
  },
  {
   "cell_type": "code",
   "execution_count": 42,
   "metadata": {
    "collapsed": false
   },
   "outputs": [
    {
     "data": {
      "text/plain": [
       "'asdf'"
      ]
     },
     "execution_count": 42,
     "metadata": {},
     "output_type": "execute_result"
    }
   ],
   "source": [
    "b.decode('utf-8')"
   ]
  },
  {
   "cell_type": "code",
   "execution_count": 43,
   "metadata": {
    "collapsed": false
   },
   "outputs": [
    {
     "data": {
      "text/plain": [
       "b'\\xff\\xfe\\x00\\x00a\\x00\\x00\\x00s\\x00\\x00\\x00d\\x00\\x00\\x00f\\x00\\x00\\x00'"
      ]
     },
     "execution_count": 43,
     "metadata": {},
     "output_type": "execute_result"
    }
   ],
   "source": [
    "# this will be problematic if other encodings are used...\n",
    "s = 'asdf'\n",
    "b = s.encode('utf-32')\n",
    "b"
   ]
  },
  {
   "cell_type": "code",
   "execution_count": 44,
   "metadata": {
    "collapsed": false
   },
   "outputs": [
    {
     "ename": "UnicodeDecodeError",
     "evalue": "'utf-8' codec can't decode byte 0xff in position 0: invalid start byte",
     "output_type": "error",
     "traceback": [
      "\u001b[0;31m---------------------------------------------------------------------------\u001b[0m",
      "\u001b[0;31mUnicodeDecodeError\u001b[0m                        Traceback (most recent call last)",
      "\u001b[0;32m<ipython-input-44-dbeeccecf491>\u001b[0m in \u001b[0;36m<module>\u001b[0;34m()\u001b[0m\n\u001b[0;32m----> 1\u001b[0;31m \u001b[0mb\u001b[0m\u001b[0;34m.\u001b[0m\u001b[0mdecode\u001b[0m\u001b[0;34m(\u001b[0m\u001b[0;34m'utf-8'\u001b[0m\u001b[0;34m)\u001b[0m\u001b[0;34m\u001b[0m\u001b[0m\n\u001b[0m",
      "\u001b[0;31mUnicodeDecodeError\u001b[0m: 'utf-8' codec can't decode byte 0xff in position 0: invalid start byte"
     ]
    }
   ],
   "source": [
    "b.decode('utf-8')"
   ]
  }
 ],
 "metadata": {
  "kernelspec": {
   "display_name": "Python 3",
   "language": "python",
   "name": "python3"
  },
  "language_info": {
   "codemirror_mode": {
    "name": "ipython",
    "version": 3
   },
   "file_extension": ".py",
   "mimetype": "text/x-python",
   "name": "python",
   "nbconvert_exporter": "python",
   "pygments_lexer": "ipython3",
   "version": "3.5.3"
  }
 },
 "nbformat": 4,
 "nbformat_minor": 2
}
